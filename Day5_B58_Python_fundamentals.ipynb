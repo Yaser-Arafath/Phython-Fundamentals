{
 "cells": [
  {
   "cell_type": "code",
   "execution_count": 15,
   "id": "8334dc4b",
   "metadata": {},
   "outputs": [
    {
     "name": "stdout",
     "output_type": "stream",
     "text": [
      "['z', 'aa', 'am', 'b', 'c', 'e', 'd']\n"
     ]
    }
   ],
   "source": [
    "alphabets=['z','aa','am','b','c','e','d']\n",
    "print(alphabets)"
   ]
  },
  {
   "cell_type": "code",
   "execution_count": 16,
   "id": "3718b912",
   "metadata": {},
   "outputs": [
    {
     "name": "stdout",
     "output_type": "stream",
     "text": [
      "['aa', 'am', 'b', 'c', 'd', 'e', 'z']\n"
     ]
    }
   ],
   "source": [
    "\n",
    "print(sorted(alphabets))"
   ]
  },
  {
   "cell_type": "code",
   "execution_count": 17,
   "id": "9e4efe37",
   "metadata": {},
   "outputs": [
    {
     "name": "stdout",
     "output_type": "stream",
     "text": [
      "['aa', 'am', 'b', 'c', 'd', 'e', 'z']\n"
     ]
    }
   ],
   "source": [
    "alphabets.sort()\n",
    "print(alphabets)"
   ]
  },
  {
   "cell_type": "code",
   "execution_count": 18,
   "id": "087bab2a",
   "metadata": {},
   "outputs": [
    {
     "name": "stdout",
     "output_type": "stream",
     "text": [
      "['aa', 'am', 'b', 'c', 'd', 'e', 'z']\n"
     ]
    }
   ],
   "source": [
    "print(alphabets)"
   ]
  },
  {
   "cell_type": "code",
   "execution_count": 19,
   "id": "41d4786c",
   "metadata": {},
   "outputs": [
    {
     "name": "stdout",
     "output_type": "stream",
     "text": [
      "['z', 'e', 'd', 'c', 'b', 'am', 'aa']\n"
     ]
    }
   ],
   "source": [
    "alphabets.reverse()\n",
    "print(alphabets)"
   ]
  },
  {
   "cell_type": "code",
   "execution_count": 20,
   "id": "aaa7db7f",
   "metadata": {},
   "outputs": [
    {
     "data": {
      "text/plain": [
       "7"
      ]
     },
     "execution_count": 20,
     "metadata": {},
     "output_type": "execute_result"
    }
   ],
   "source": [
    "len(alphabets)"
   ]
  },
  {
   "cell_type": "code",
   "execution_count": 21,
   "id": "fda6a655",
   "metadata": {},
   "outputs": [
    {
     "name": "stdout",
     "output_type": "stream",
     "text": [
      "7\n"
     ]
    }
   ],
   "source": [
    "print(len(alphabets))"
   ]
  },
  {
   "cell_type": "code",
   "execution_count": 22,
   "id": "159ccf22",
   "metadata": {},
   "outputs": [
    {
     "name": "stdout",
     "output_type": "stream",
     "text": [
      "['0']\n"
     ]
    }
   ],
   "source": [
    "number=['0','1','2','3','4','5','6','7','8','9','10']\n",
    "print(number[0:1])"
   ]
  },
  {
   "cell_type": "code",
   "execution_count": 23,
   "id": "5b212719",
   "metadata": {},
   "outputs": [
    {
     "name": "stdout",
     "output_type": "stream",
     "text": [
      "[]\n"
     ]
    }
   ],
   "source": [
    "print(number[0:0])"
   ]
  },
  {
   "cell_type": "code",
   "execution_count": 25,
   "id": "f6462ad8",
   "metadata": {},
   "outputs": [
    {
     "name": "stdout",
     "output_type": "stream",
     "text": [
      "['2', '3']\n"
     ]
    }
   ],
   "source": [
    "print(number[2:4])"
   ]
  },
  {
   "cell_type": "code",
   "execution_count": 26,
   "id": "421294fb",
   "metadata": {},
   "outputs": [
    {
     "name": "stdout",
     "output_type": "stream",
     "text": [
      "['0', '1', '2', '3', '4', '5', '6', '7', '8', '9']\n"
     ]
    }
   ],
   "source": [
    "print(number[0:10:1])"
   ]
  },
  {
   "cell_type": "code",
   "execution_count": 27,
   "id": "b1f32a2b",
   "metadata": {},
   "outputs": [
    {
     "name": "stdout",
     "output_type": "stream",
     "text": [
      "['0', '2', '4', '6', '8']\n"
     ]
    }
   ],
   "source": [
    "print(number[0:10:2])"
   ]
  },
  {
   "cell_type": "code",
   "execution_count": 28,
   "id": "c5e76882",
   "metadata": {},
   "outputs": [
    {
     "name": "stdout",
     "output_type": "stream",
     "text": [
      "['0', '3', '6', '9']\n"
     ]
    }
   ],
   "source": [
    "print(number[0:10:3])"
   ]
  },
  {
   "cell_type": "code",
   "execution_count": 29,
   "id": "b1606a7d",
   "metadata": {},
   "outputs": [
    {
     "name": "stdout",
     "output_type": "stream",
     "text": [
      "['0', '4', '8']\n"
     ]
    }
   ],
   "source": [
    "print(number[0:10:4])"
   ]
  },
  {
   "cell_type": "code",
   "execution_count": 30,
   "id": "cda08aa9",
   "metadata": {},
   "outputs": [
    {
     "name": "stdout",
     "output_type": "stream",
     "text": [
      "['0', '5']\n"
     ]
    }
   ],
   "source": [
    "print(number[0:10:5])"
   ]
  },
  {
   "cell_type": "code",
   "execution_count": 31,
   "id": "970246c1",
   "metadata": {},
   "outputs": [
    {
     "name": "stdout",
     "output_type": "stream",
     "text": [
      "['0', '6']\n"
     ]
    }
   ],
   "source": [
    "print(number[0:10:6])"
   ]
  },
  {
   "cell_type": "code",
   "execution_count": 32,
   "id": "2b75ac2d",
   "metadata": {},
   "outputs": [
    {
     "name": "stdout",
     "output_type": "stream",
     "text": [
      "['0', '7']\n"
     ]
    }
   ],
   "source": [
    "print(number[0:10:7])"
   ]
  },
  {
   "cell_type": "code",
   "execution_count": null,
   "id": "bf1f2a48",
   "metadata": {},
   "outputs": [],
   "source": []
  }
 ],
 "metadata": {
  "kernelspec": {
   "display_name": "Python 3 (ipykernel)",
   "language": "python",
   "name": "python3"
  },
  "language_info": {
   "codemirror_mode": {
    "name": "ipython",
    "version": 3
   },
   "file_extension": ".py",
   "mimetype": "text/x-python",
   "name": "python",
   "nbconvert_exporter": "python",
   "pygments_lexer": "ipython3",
   "version": "3.9.7"
  }
 },
 "nbformat": 4,
 "nbformat_minor": 5
}
