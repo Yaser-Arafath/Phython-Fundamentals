{
 "cells": [
  {
   "cell_type": "code",
   "execution_count": 1,
   "id": "2fda24f6",
   "metadata": {},
   "outputs": [
    {
     "name": "stdout",
     "output_type": "stream",
     "text": [
      "['cricket', 'tennis', 'football', 'volleyball', 'basketball']\n"
     ]
    }
   ],
   "source": [
    "sports=['cricket','tennis','football','volleyball','basketball']\n",
    "print(sports)"
   ]
  },
  {
   "cell_type": "code",
   "execution_count": 2,
   "id": "af45f028",
   "metadata": {},
   "outputs": [],
   "source": [
    "sports.append('badminton')"
   ]
  },
  {
   "cell_type": "code",
   "execution_count": 3,
   "id": "a1147ee9",
   "metadata": {},
   "outputs": [
    {
     "name": "stdout",
     "output_type": "stream",
     "text": [
      "['cricket', 'tennis', 'football', 'volleyball', 'basketball', 'badminton']\n"
     ]
    }
   ],
   "source": [
    "print(sports)"
   ]
  },
  {
   "cell_type": "code",
   "execution_count": 4,
   "id": "c4684c96",
   "metadata": {},
   "outputs": [],
   "source": [
    "sports.insert(1,'soccer')"
   ]
  },
  {
   "cell_type": "code",
   "execution_count": 5,
   "id": "c7b63bf6",
   "metadata": {},
   "outputs": [
    {
     "name": "stdout",
     "output_type": "stream",
     "text": [
      "['cricket', 'soccer', 'tennis', 'football', 'volleyball', 'basketball', 'badminton']\n"
     ]
    }
   ],
   "source": [
    "print(sports)"
   ]
  },
  {
   "cell_type": "code",
   "execution_count": 6,
   "id": "cbac489e",
   "metadata": {},
   "outputs": [],
   "source": [
    "del sports[2]"
   ]
  },
  {
   "cell_type": "code",
   "execution_count": 7,
   "id": "52424ef3",
   "metadata": {},
   "outputs": [
    {
     "name": "stdout",
     "output_type": "stream",
     "text": [
      "['cricket', 'soccer', 'football', 'volleyball', 'basketball', 'badminton']\n"
     ]
    }
   ],
   "source": [
    "print(sports)"
   ]
  },
  {
   "cell_type": "code",
   "execution_count": 8,
   "id": "5887baf2",
   "metadata": {},
   "outputs": [],
   "source": [
    "x=sports.pop()"
   ]
  },
  {
   "cell_type": "code",
   "execution_count": 9,
   "id": "bfcce12d",
   "metadata": {},
   "outputs": [
    {
     "name": "stdout",
     "output_type": "stream",
     "text": [
      "['cricket', 'soccer', 'football', 'volleyball', 'basketball']\n"
     ]
    }
   ],
   "source": [
    "print(sports)"
   ]
  },
  {
   "cell_type": "code",
   "execution_count": 10,
   "id": "ff5868d7",
   "metadata": {},
   "outputs": [
    {
     "name": "stdout",
     "output_type": "stream",
     "text": [
      "badminton\n"
     ]
    }
   ],
   "source": [
    "print(x)"
   ]
  },
  {
   "cell_type": "code",
   "execution_count": 11,
   "id": "f7705408",
   "metadata": {},
   "outputs": [
    {
     "name": "stdout",
     "output_type": "stream",
     "text": [
      "['cricket', 'soccer', 'football', 'volleyball', 'basketball']\n"
     ]
    }
   ],
   "source": [
    "print(sports)"
   ]
  },
  {
   "cell_type": "code",
   "execution_count": null,
   "id": "3da6f116",
   "metadata": {},
   "outputs": [],
   "source": []
  }
 ],
 "metadata": {
  "kernelspec": {
   "display_name": "Python 3 (ipykernel)",
   "language": "python",
   "name": "python3"
  },
  "language_info": {
   "codemirror_mode": {
    "name": "ipython",
    "version": 3
   },
   "file_extension": ".py",
   "mimetype": "text/x-python",
   "name": "python",
   "nbconvert_exporter": "python",
   "pygments_lexer": "ipython3",
   "version": "3.9.7"
  }
 },
 "nbformat": 4,
 "nbformat_minor": 5
}
