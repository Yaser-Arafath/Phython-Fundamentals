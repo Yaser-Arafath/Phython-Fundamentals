{
 "cells": [
  {
   "cell_type": "code",
   "execution_count": 7,
   "id": "bffd2204",
   "metadata": {},
   "outputs": [
    {
     "name": "stdout",
     "output_type": "stream",
     "text": [
      "['gandhiji', 'periyar', 'netaji', 'nehru', 'abul kalam azath']\n"
     ]
    }
   ],
   "source": [
    "political_leaders=['gandhiji','periyar','netaji','nehru','abul kalam azath']\n",
    "print(political_leaders)"
   ]
  },
  {
   "cell_type": "code",
   "execution_count": 16,
   "id": "bc4c3fec",
   "metadata": {},
   "outputs": [
    {
     "name": "stdout",
     "output_type": "stream",
     "text": [
      "political leaders list, Gandhiji\n",
      "political leaders list, Periyar\n",
      "political leaders list, Netaji\n",
      "political leaders list, Nehru\n",
      "political leaders list, Abul Kalam Azath\n"
     ]
    }
   ],
   "source": [
    "for i in political_leaders:\n",
    "    print(f\"political leaders list, {i.title()}\")"
   ]
  },
  {
   "cell_type": "code",
   "execution_count": 22,
   "id": "8d8c63cc",
   "metadata": {},
   "outputs": [
    {
     "name": "stdout",
     "output_type": "stream",
     "text": [
      "political leaders list, Gandhiji\n",
      "Repeat 2nd round of political leaders list, Gandhiji\n",
      "\n",
      "political leaders list, Periyar\n",
      "Repeat 2nd round of political leaders list, Periyar\n",
      "\n",
      "political leaders list, Netaji\n",
      "Repeat 2nd round of political leaders list, Netaji\n",
      "\n",
      "political leaders list, Nehru\n",
      "Repeat 2nd round of political leaders list, Nehru\n",
      "\n",
      "political leaders list, Abul Kalam Azath\n",
      "Repeat 2nd round of political leaders list, Abul Kalam Azath\n",
      "\n"
     ]
    }
   ],
   "source": [
    "for i in political_leaders:\n",
    "    print(f\"political leaders list, {i.title()}\")\n",
    "    print(f\"Repeat 2nd round of political leaders list, {i.title()}\\n\")\n",
    "    "
   ]
  },
  {
   "cell_type": "code",
   "execution_count": 24,
   "id": "5cc36eda",
   "metadata": {},
   "outputs": [
    {
     "name": "stdout",
     "output_type": "stream",
     "text": [
      "political leaders list, Gandhiji\n",
      "Repeat 2nd round of political leaders list, Gandhiji\n",
      "\n",
      "political leaders list, Periyar\n",
      "Repeat 2nd round of political leaders list, Periyar\n",
      "\n",
      "political leaders list, Netaji\n",
      "Repeat 2nd round of political leaders list, Netaji\n",
      "\n",
      "political leaders list, Nehru\n",
      "Repeat 2nd round of political leaders list, Nehru\n",
      "\n",
      "political leaders list, Abul Kalam Azath\n",
      "Repeat 2nd round of political leaders list, Abul Kalam Azath\n",
      "\n",
      "New intendation\n"
     ]
    }
   ],
   "source": [
    "for i in political_leaders:\n",
    "    print(f\"political leaders list, {i.title()}\")\n",
    "    print(f\"Repeat 2nd round of political leaders list, {i.title()}\\n\")\n",
    "    \n",
    "print(\"New intendation\")"
   ]
  },
  {
   "cell_type": "code",
   "execution_count": null,
   "id": "868a5fd9",
   "metadata": {},
   "outputs": [],
   "source": []
  }
 ],
 "metadata": {
  "kernelspec": {
   "display_name": "Python 3 (ipykernel)",
   "language": "python",
   "name": "python3"
  },
  "language_info": {
   "codemirror_mode": {
    "name": "ipython",
    "version": 3
   },
   "file_extension": ".py",
   "mimetype": "text/x-python",
   "name": "python",
   "nbconvert_exporter": "python",
   "pygments_lexer": "ipython3",
   "version": "3.9.7"
  }
 },
 "nbformat": 4,
 "nbformat_minor": 5
}
