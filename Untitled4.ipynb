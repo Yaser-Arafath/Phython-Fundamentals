{
 "cells": [
  {
   "cell_type": "code",
   "execution_count": 2,
   "id": "97a48c8b",
   "metadata": {},
   "outputs": [
    {
     "name": "stdout",
     "output_type": "stream",
     "text": [
      "Yasir Arafath\n"
     ]
    }
   ],
   "source": [
    "titlecase=\"yasir arafath\"\n",
    "print(titlecase.title())\n"
   ]
  },
  {
   "cell_type": "code",
   "execution_count": 3,
   "id": "855696fd",
   "metadata": {},
   "outputs": [
    {
     "name": "stdout",
     "output_type": "stream",
     "text": [
      "yasir arafath\n"
     ]
    }
   ],
   "source": [
    "lowercase=\"YASIR ARAFATH\"\n",
    "print(lowercase.lower())\n"
   ]
  },
  {
   "cell_type": "code",
   "execution_count": 4,
   "id": "d60183d0",
   "metadata": {},
   "outputs": [
    {
     "name": "stdout",
     "output_type": "stream",
     "text": [
      "YASIR ARAFATH\n"
     ]
    }
   ],
   "source": [
    "uppercase=\"yasir arafath\"\n",
    "print(uppercase.upper())"
   ]
  },
  {
   "cell_type": "code",
   "execution_count": 18,
   "id": "507c317b",
   "metadata": {},
   "outputs": [
    {
     "name": "stdout",
     "output_type": "stream",
     "text": [
      "yasir arafath\n"
     ]
    }
   ],
   "source": [
    "concatenation1=\"yasir\"\n",
    "concatenation2=\"arafath\"\n",
    "joinname=f\"{concatenation1} {concatenation2}\"\n",
    "print(joinname)\n"
   ]
  },
  {
   "cell_type": "code",
   "execution_count": 20,
   "id": "0d038695",
   "metadata": {},
   "outputs": [
    {
     "name": "stdout",
     "output_type": "stream",
     "text": [
      "congrats yasir arafath\n"
     ]
    }
   ],
   "source": [
    "concatenation1=\"yasir\"\n",
    "concatenation2=\"arafath\"\n",
    "joinname=f\"congrats {concatenation1} {concatenation2}\"\n",
    "print(joinname)"
   ]
  },
  {
   "cell_type": "code",
   "execution_count": 23,
   "id": "90179618",
   "metadata": {},
   "outputs": [
    {
     "name": "stdout",
     "output_type": "stream",
     "text": [
      "python\n",
      "java\n",
      "oops concept\n"
     ]
    }
   ],
   "source": [
    "print(\"python\\njava\\noops concept\")"
   ]
  },
  {
   "cell_type": "code",
   "execution_count": 25,
   "id": "9daacc4b",
   "metadata": {},
   "outputs": [
    {
     "name": "stdout",
     "output_type": "stream",
     "text": [
      "languages list:\n",
      "\tpython\n",
      "\tjava\n",
      "\toops concept\n"
     ]
    }
   ],
   "source": [
    "print(\"languages list:\\n\\tpython\\n\\tjava\\n\\toops concept\")"
   ]
  },
  {
   "cell_type": "code",
   "execution_count": null,
   "id": "a6974b5d",
   "metadata": {},
   "outputs": [],
   "source": []
  }
 ],
 "metadata": {
  "kernelspec": {
   "display_name": "Python 3 (ipykernel)",
   "language": "python",
   "name": "python3"
  },
  "language_info": {
   "codemirror_mode": {
    "name": "ipython",
    "version": 3
   },
   "file_extension": ".py",
   "mimetype": "text/x-python",
   "name": "python",
   "nbconvert_exporter": "python",
   "pygments_lexer": "ipython3",
   "version": "3.9.7"
  }
 },
 "nbformat": 4,
 "nbformat_minor": 5
}
