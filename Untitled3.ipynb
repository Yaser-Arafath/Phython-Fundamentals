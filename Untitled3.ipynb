{
 "cells": [
  {
   "cell_type": "code",
   "execution_count": 1,
   "id": "b47a3b26",
   "metadata": {},
   "outputs": [
    {
     "name": "stdout",
     "output_type": "stream",
     "text": [
      "yasir\n"
     ]
    }
   ],
   "source": [
    "print(\"yasir\")"
   ]
  },
  {
   "cell_type": "code",
   "execution_count": 2,
   "id": "cf87758d",
   "metadata": {},
   "outputs": [
    {
     "name": "stdout",
     "output_type": "stream",
     "text": [
      "yasir\n"
     ]
    }
   ],
   "source": [
    "singlequote = 'yasir'\n",
    "print(singlequote)"
   ]
  },
  {
   "cell_type": "code",
   "execution_count": 3,
   "id": "5e3b88f3",
   "metadata": {},
   "outputs": [
    {
     "name": "stdout",
     "output_type": "stream",
     "text": [
      "yasir\n"
     ]
    }
   ],
   "source": [
    "doublequote=\"yasir\"\n",
    "print(name)"
   ]
  },
  {
   "cell_type": "code",
   "execution_count": 5,
   "id": "cb8daefd",
   "metadata": {},
   "outputs": [
    {
     "name": "stdout",
     "output_type": "stream",
     "text": [
      "yasir\n"
     ]
    }
   ],
   "source": [
    "triplequote=\"\"\"yasir\"\"\"\n",
    "print(triplequote)\n",
    "    "
   ]
  },
  {
   "cell_type": "code",
   "execution_count": 6,
   "id": "d5630f2b",
   "metadata": {},
   "outputs": [
    {
     "name": "stdout",
     "output_type": "stream",
     "text": [
      "<class 'str'>\n"
     ]
    }
   ],
   "source": [
    "print(type(triplequote))"
   ]
  },
  {
   "cell_type": "code",
   "execution_count": null,
   "id": "ac8678ed",
   "metadata": {},
   "outputs": [],
   "source": []
  }
 ],
 "metadata": {
  "kernelspec": {
   "display_name": "Python 3 (ipykernel)",
   "language": "python",
   "name": "python3"
  },
  "language_info": {
   "codemirror_mode": {
    "name": "ipython",
    "version": 3
   },
   "file_extension": ".py",
   "mimetype": "text/x-python",
   "name": "python",
   "nbconvert_exporter": "python",
   "pygments_lexer": "ipython3",
   "version": "3.9.7"
  }
 },
 "nbformat": 4,
 "nbformat_minor": 5
}
